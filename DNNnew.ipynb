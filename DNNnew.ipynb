{
  "nbformat": 4,
  "nbformat_minor": 0,
  "metadata": {
    "colab": {
      "provenance": [],
      "include_colab_link": true
    },
    "kernelspec": {
      "name": "python3",
      "display_name": "Python 3"
    },
    "language_info": {
      "name": "python"
    }
  },
  "cells": [
    {
      "cell_type": "markdown",
      "metadata": {
        "id": "view-in-github",
        "colab_type": "text"
      },
      "source": [
        "<a href=\"https://colab.research.google.com/github/abhi-1907/TrainingSessionsForStudents/blob/main/DNNnew.ipynb\" target=\"_parent\"><img src=\"https://colab.research.google.com/assets/colab-badge.svg\" alt=\"Open In Colab\"/></a>"
      ]
    },
    {
      "cell_type": "code",
      "source": [
        "import tensorflow as tf\n",
        "from tensorflow import keras\n",
        "from tensorflow.keras.layers import Dense, Activation"
      ],
      "metadata": {
        "id": "MP9RxQyBX_qA"
      },
      "execution_count": null,
      "outputs": []
    },
    {
      "cell_type": "code",
      "source": [
        "# 1. Define the model architecture\n",
        "model = keras.Sequential([\n",
        "    Dense(128, activation='relu', input_shape=(784,)),  # Input layer with 784 features (e.g., flattened 28x28 image) and 128 neurons\n",
        "    Dense(10, activation='softmax') # Output layer with 10 neurons (for 10 classes) and softmax activation for probability distribution.\n",
        "])\n",
        "\n",
        "\n",
        "# Explanation of the architecture:\n",
        "\n",
        "# *   keras.Sequential(): This creates a linear stack of layers, meaning data flows sequentially through them.\n",
        "\n",
        "# *   Dense(128, activation='relu', input_shape=(784,)): This is the first (hidden) layer.\n",
        "#     *   Dense:  A fully connected layer. Every neuron in this layer is connected to every neuron in the previous layer.\n",
        "#     *   128: The number of neurons in this layer.  More neurons can capture more complex patterns, but too many can lead to overfitting.\n",
        "#     *   activation='relu': The Rectified Linear Unit activation function.  It introduces non-linearity, which is crucial for\n",
        "#  deep learning. ReLU is a popular choice because it's computationally efficient and often performs well.  Other options include 'sigmoid', 'tanh'.\n",
        "#     *   input_shape=(784,): Specifies the shape of the input data. Here, it assumes the input is a 1D array of 784 features.\n",
        "# This would be the case if you have, for example, flattened a 28x28 pixel image.\n",
        "\n",
        "# *   Dense(10, activation='softmax'): This is the output layer.\n",
        "#     *   10: The number of neurons, corresponding to the number of classes you're trying to predict.\n",
        "# For example, if you're classifying digits (0-9), you'd have 10 classes.\n",
        "#     *   activation='softmax':  Softmax converts the output of the neurons into a probability distribution.\n",
        "# Each neuron's output will be a value between 0 and 1, and they will all sum up to 1.  This makes it suitable for multi-class classification.\n"
      ],
      "metadata": {
        "id": "9YM6yckWYAgz",
        "colab": {
          "base_uri": "https://localhost:8080/"
        },
        "outputId": "52182069-8a73-4720-8b99-b2ae8910e8ce"
      },
      "execution_count": null,
      "outputs": [
        {
          "output_type": "stream",
          "name": "stderr",
          "text": [
            "/usr/local/lib/python3.11/dist-packages/keras/src/layers/core/dense.py:87: UserWarning: Do not pass an `input_shape`/`input_dim` argument to a layer. When using Sequential models, prefer using an `Input(shape)` object as the first layer in the model instead.\n",
            "  super().__init__(activity_regularizer=activity_regularizer, **kwargs)\n"
          ]
        }
      ]
    },
    {
      "cell_type": "code",
      "source": [
        "# 2. Compile the model\n",
        "model.compile(optimizer='adam',  # Optimization algorithm (how the model learns)\n",
        "              loss='categorical_crossentropy', # Loss function (how to measure errors)\n",
        "              metrics=['accuracy']) # Metrics to track during training\n",
        "\n",
        "\n",
        "# Explanation of compilation:\n",
        "\n",
        "# *   optimizer='adam': Adam is a popular and generally effective optimization algorithm. It adjusts the model's weights to minimize the loss function.  Other options include 'sgd', 'rmsprop'.\n",
        "\n",
        "# *   loss='categorical_crossentropy':  This loss function is used for multi-class classification problems where the labels are one-hot encoded (e.g., digit 3 is represented as [0, 0, 0, 1, 0, 0, 0, 0, 0, 0]). If your labels are integers (e.g., 3), you would use 'sparse_categorical_crossentropy'.\n",
        "\n",
        "# *   metrics=['accuracy']:  We'll track the accuracy during training and evaluation."
      ],
      "metadata": {
        "id": "V1qpGUZtYMH8"
      },
      "execution_count": null,
      "outputs": []
    },
    {
      "cell_type": "code",
      "source": [
        "# 3. Prepare the data (example using MNIST)\n",
        "(x_train, y_train), (x_test, y_test) = keras.datasets.mnist.load_data()  # Load MNIST dataset\n",
        "\n",
        "# Preprocess the data (important!)\n",
        "x_train = x_train.reshape(60000, 784).astype('float32') / 255.0  # Flatten and normalize pixel values\n",
        "x_test = x_test.reshape(10000, 784).astype('float32') / 255.0\n",
        "\n",
        "y_train = keras.utils.to_categorical(y_train, num_classes=10) # One-hot encode the labels\n",
        "y_test = keras.utils.to_categorical(y_test, num_classes=10)\n"
      ],
      "metadata": {
        "id": "c1hXFr0rYSIz",
        "colab": {
          "base_uri": "https://localhost:8080/"
        },
        "outputId": "74f281ea-7466-43c6-e328-480f0650f69d"
      },
      "execution_count": null,
      "outputs": [
        {
          "output_type": "stream",
          "name": "stdout",
          "text": [
            "Downloading data from https://storage.googleapis.com/tensorflow/tf-keras-datasets/mnist.npz\n",
            "\u001b[1m11490434/11490434\u001b[0m \u001b[32m━━━━━━━━━━━━━━━━━━━━\u001b[0m\u001b[37m\u001b[0m \u001b[1m0s\u001b[0m 0us/step\n"
          ]
        }
      ]
    },
    {
      "cell_type": "code",
      "source": [
        "# 4. Train the model\n",
        "model.fit(x_train, y_train, epochs=5, batch_size=32) # Train the model\n",
        "\n",
        "\n",
        "# Explanation of training:\n",
        "\n",
        "# *   x_train, y_train: The training data and corresponding labels.\n",
        "# *   epochs=5:  The number of times the model will go through the entire training dataset.\n",
        "# *   batch_size=32: The number of samples processed in each iteration of training."
      ],
      "metadata": {
        "id": "KkiVpwGhYXBF",
        "colab": {
          "base_uri": "https://localhost:8080/"
        },
        "outputId": "fe19d034-d6dd-4fa8-d762-60d59909ed20"
      },
      "execution_count": null,
      "outputs": [
        {
          "output_type": "stream",
          "name": "stdout",
          "text": [
            "Epoch 1/5\n",
            "\u001b[1m1875/1875\u001b[0m \u001b[32m━━━━━━━━━━━━━━━━━━━━\u001b[0m\u001b[37m\u001b[0m \u001b[1m10s\u001b[0m 4ms/step - accuracy: 0.8786 - loss: 0.4301\n",
            "Epoch 2/5\n",
            "\u001b[1m1875/1875\u001b[0m \u001b[32m━━━━━━━━━━━━━━━━━━━━\u001b[0m\u001b[37m\u001b[0m \u001b[1m9s\u001b[0m 4ms/step - accuracy: 0.9646 - loss: 0.1191\n",
            "Epoch 3/5\n",
            "\u001b[1m1875/1875\u001b[0m \u001b[32m━━━━━━━━━━━━━━━━━━━━\u001b[0m\u001b[37m\u001b[0m \u001b[1m6s\u001b[0m 3ms/step - accuracy: 0.9770 - loss: 0.0752\n",
            "Epoch 4/5\n",
            "\u001b[1m1875/1875\u001b[0m \u001b[32m━━━━━━━━━━━━━━━━━━━━\u001b[0m\u001b[37m\u001b[0m \u001b[1m11s\u001b[0m 4ms/step - accuracy: 0.9834 - loss: 0.0541\n",
            "Epoch 5/5\n",
            "\u001b[1m1875/1875\u001b[0m \u001b[32m━━━━━━━━━━━━━━━━━━━━\u001b[0m\u001b[37m\u001b[0m \u001b[1m12s\u001b[0m 5ms/step - accuracy: 0.9862 - loss: 0.0446\n"
          ]
        },
        {
          "output_type": "execute_result",
          "data": {
            "text/plain": [
              "<keras.src.callbacks.history.History at 0x7c2e52e64910>"
            ]
          },
          "metadata": {},
          "execution_count": 5
        }
      ]
    },
    {
      "cell_type": "code",
      "source": [
        "# 5. Evaluate the model\n",
        "loss, accuracy = model.evaluate(x_test, y_test, verbose=0)\n",
        "print('Test loss:', loss)\n",
        "print('Test accuracy:', accuracy)\n",
        "\n"
      ],
      "metadata": {
        "id": "W_FEHAxPYcjr",
        "colab": {
          "base_uri": "https://localhost:8080/"
        },
        "outputId": "4745481b-7728-4729-c5d5-1fde39318027"
      },
      "execution_count": null,
      "outputs": [
        {
          "output_type": "stream",
          "name": "stdout",
          "text": [
            "Test loss: 0.0674959197640419\n",
            "Test accuracy: 0.9781000018119812\n"
          ]
        }
      ]
    },
    {
      "cell_type": "code",
      "source": [
        "# 6. Make predictions (optional)\n",
        "predictions = model.predict(x_test)  # Returns probabilities for each class\n",
        "predicted_labels = tf.argmax(predictions, axis=1) # Get the predicted class labels\n",
        "\n",
        "print(predicted_labels[:10]) # print first 10 predictions"
      ],
      "metadata": {
        "id": "6AIxy30-Ymj0",
        "colab": {
          "base_uri": "https://localhost:8080/"
        },
        "outputId": "5d110439-3ac9-410a-d10d-b80e6d64c250"
      },
      "execution_count": null,
      "outputs": [
        {
          "output_type": "stream",
          "name": "stdout",
          "text": [
            "\u001b[1m313/313\u001b[0m \u001b[32m━━━━━━━━━━━━━━━━━━━━\u001b[0m\u001b[37m\u001b[0m \u001b[1m1s\u001b[0m 2ms/step\n",
            "tf.Tensor([7 2 1 0 4 1 4 9 5 9], shape=(10,), dtype=int64)\n"
          ]
        }
      ]
    }
  ]
}