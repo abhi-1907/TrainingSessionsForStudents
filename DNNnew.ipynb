{
  "nbformat": 4,
  "nbformat_minor": 0,
  "metadata": {
    "colab": {
      "provenance": [],
      "include_colab_link": true
    },
    "kernelspec": {
      "name": "python3",
      "display_name": "Python 3"
    },
    "language_info": {
      "name": "python"
    }
  },
  "cells": [
    {
      "cell_type": "markdown",
      "metadata": {
        "id": "view-in-github",
        "colab_type": "text"
      },
      "source": [
        "<a href=\"https://colab.research.google.com/github/abhi-1907/TrainingSessionsForStudents/blob/main/DNNnew.ipynb\" target=\"_parent\"><img src=\"https://colab.research.google.com/assets/colab-badge.svg\" alt=\"Open In Colab\"/></a>"
      ]
    },
    {
      "cell_type": "code",
      "source": [
        "import tensorflow as tf\n",
        "from tensorflow import keras\n",
        "from tensorflow.keras.layers import Dense, Flatten, Rescaling\n",
        "import matplotlib.pyplot as plt\n",
        "import os\n",
        "import numpy as np\n",
        "from google.colab import files\n",
        "import os\n",
        "import zipfile"
      ],
      "metadata": {
        "id": "MP9RxQyBX_qA"
      },
      "execution_count": 7,
      "outputs": []
    },
    {
      "cell_type": "code",
      "source": [
        "\n",
        "# Upload the ZIP file (Manually select your \"handwriting.zip\")\n",
        "uploaded = files.upload()\n"
      ],
      "metadata": {
        "colab": {
          "base_uri": "https://localhost:8080/",
          "height": 73
        },
        "id": "X2ee53FWzjkf",
        "outputId": "eefb44a0-7a43-4c98-d615-3acd45a632a0"
      },
      "execution_count": 14,
      "outputs": [
        {
          "output_type": "display_data",
          "data": {
            "text/plain": [
              "<IPython.core.display.HTML object>"
            ],
            "text/html": [
              "\n",
              "     <input type=\"file\" id=\"files-3d219624-70a2-4896-80ff-fb0aa7869aa5\" name=\"files[]\" multiple disabled\n",
              "        style=\"border:none\" />\n",
              "     <output id=\"result-3d219624-70a2-4896-80ff-fb0aa7869aa5\">\n",
              "      Upload widget is only available when the cell has been executed in the\n",
              "      current browser session. Please rerun this cell to enable.\n",
              "      </output>\n",
              "      <script>// Copyright 2017 Google LLC\n",
              "//\n",
              "// Licensed under the Apache License, Version 2.0 (the \"License\");\n",
              "// you may not use this file except in compliance with the License.\n",
              "// You may obtain a copy of the License at\n",
              "//\n",
              "//      http://www.apache.org/licenses/LICENSE-2.0\n",
              "//\n",
              "// Unless required by applicable law or agreed to in writing, software\n",
              "// distributed under the License is distributed on an \"AS IS\" BASIS,\n",
              "// WITHOUT WARRANTIES OR CONDITIONS OF ANY KIND, either express or implied.\n",
              "// See the License for the specific language governing permissions and\n",
              "// limitations under the License.\n",
              "\n",
              "/**\n",
              " * @fileoverview Helpers for google.colab Python module.\n",
              " */\n",
              "(function(scope) {\n",
              "function span(text, styleAttributes = {}) {\n",
              "  const element = document.createElement('span');\n",
              "  element.textContent = text;\n",
              "  for (const key of Object.keys(styleAttributes)) {\n",
              "    element.style[key] = styleAttributes[key];\n",
              "  }\n",
              "  return element;\n",
              "}\n",
              "\n",
              "// Max number of bytes which will be uploaded at a time.\n",
              "const MAX_PAYLOAD_SIZE = 100 * 1024;\n",
              "\n",
              "function _uploadFiles(inputId, outputId) {\n",
              "  const steps = uploadFilesStep(inputId, outputId);\n",
              "  const outputElement = document.getElementById(outputId);\n",
              "  // Cache steps on the outputElement to make it available for the next call\n",
              "  // to uploadFilesContinue from Python.\n",
              "  outputElement.steps = steps;\n",
              "\n",
              "  return _uploadFilesContinue(outputId);\n",
              "}\n",
              "\n",
              "// This is roughly an async generator (not supported in the browser yet),\n",
              "// where there are multiple asynchronous steps and the Python side is going\n",
              "// to poll for completion of each step.\n",
              "// This uses a Promise to block the python side on completion of each step,\n",
              "// then passes the result of the previous step as the input to the next step.\n",
              "function _uploadFilesContinue(outputId) {\n",
              "  const outputElement = document.getElementById(outputId);\n",
              "  const steps = outputElement.steps;\n",
              "\n",
              "  const next = steps.next(outputElement.lastPromiseValue);\n",
              "  return Promise.resolve(next.value.promise).then((value) => {\n",
              "    // Cache the last promise value to make it available to the next\n",
              "    // step of the generator.\n",
              "    outputElement.lastPromiseValue = value;\n",
              "    return next.value.response;\n",
              "  });\n",
              "}\n",
              "\n",
              "/**\n",
              " * Generator function which is called between each async step of the upload\n",
              " * process.\n",
              " * @param {string} inputId Element ID of the input file picker element.\n",
              " * @param {string} outputId Element ID of the output display.\n",
              " * @return {!Iterable<!Object>} Iterable of next steps.\n",
              " */\n",
              "function* uploadFilesStep(inputId, outputId) {\n",
              "  const inputElement = document.getElementById(inputId);\n",
              "  inputElement.disabled = false;\n",
              "\n",
              "  const outputElement = document.getElementById(outputId);\n",
              "  outputElement.innerHTML = '';\n",
              "\n",
              "  const pickedPromise = new Promise((resolve) => {\n",
              "    inputElement.addEventListener('change', (e) => {\n",
              "      resolve(e.target.files);\n",
              "    });\n",
              "  });\n",
              "\n",
              "  const cancel = document.createElement('button');\n",
              "  inputElement.parentElement.appendChild(cancel);\n",
              "  cancel.textContent = 'Cancel upload';\n",
              "  const cancelPromise = new Promise((resolve) => {\n",
              "    cancel.onclick = () => {\n",
              "      resolve(null);\n",
              "    };\n",
              "  });\n",
              "\n",
              "  // Wait for the user to pick the files.\n",
              "  const files = yield {\n",
              "    promise: Promise.race([pickedPromise, cancelPromise]),\n",
              "    response: {\n",
              "      action: 'starting',\n",
              "    }\n",
              "  };\n",
              "\n",
              "  cancel.remove();\n",
              "\n",
              "  // Disable the input element since further picks are not allowed.\n",
              "  inputElement.disabled = true;\n",
              "\n",
              "  if (!files) {\n",
              "    return {\n",
              "      response: {\n",
              "        action: 'complete',\n",
              "      }\n",
              "    };\n",
              "  }\n",
              "\n",
              "  for (const file of files) {\n",
              "    const li = document.createElement('li');\n",
              "    li.append(span(file.name, {fontWeight: 'bold'}));\n",
              "    li.append(span(\n",
              "        `(${file.type || 'n/a'}) - ${file.size} bytes, ` +\n",
              "        `last modified: ${\n",
              "            file.lastModifiedDate ? file.lastModifiedDate.toLocaleDateString() :\n",
              "                                    'n/a'} - `));\n",
              "    const percent = span('0% done');\n",
              "    li.appendChild(percent);\n",
              "\n",
              "    outputElement.appendChild(li);\n",
              "\n",
              "    const fileDataPromise = new Promise((resolve) => {\n",
              "      const reader = new FileReader();\n",
              "      reader.onload = (e) => {\n",
              "        resolve(e.target.result);\n",
              "      };\n",
              "      reader.readAsArrayBuffer(file);\n",
              "    });\n",
              "    // Wait for the data to be ready.\n",
              "    let fileData = yield {\n",
              "      promise: fileDataPromise,\n",
              "      response: {\n",
              "        action: 'continue',\n",
              "      }\n",
              "    };\n",
              "\n",
              "    // Use a chunked sending to avoid message size limits. See b/62115660.\n",
              "    let position = 0;\n",
              "    do {\n",
              "      const length = Math.min(fileData.byteLength - position, MAX_PAYLOAD_SIZE);\n",
              "      const chunk = new Uint8Array(fileData, position, length);\n",
              "      position += length;\n",
              "\n",
              "      const base64 = btoa(String.fromCharCode.apply(null, chunk));\n",
              "      yield {\n",
              "        response: {\n",
              "          action: 'append',\n",
              "          file: file.name,\n",
              "          data: base64,\n",
              "        },\n",
              "      };\n",
              "\n",
              "      let percentDone = fileData.byteLength === 0 ?\n",
              "          100 :\n",
              "          Math.round((position / fileData.byteLength) * 100);\n",
              "      percent.textContent = `${percentDone}% done`;\n",
              "\n",
              "    } while (position < fileData.byteLength);\n",
              "  }\n",
              "\n",
              "  // All done.\n",
              "  yield {\n",
              "    response: {\n",
              "      action: 'complete',\n",
              "    }\n",
              "  };\n",
              "}\n",
              "\n",
              "scope.google = scope.google || {};\n",
              "scope.google.colab = scope.google.colab || {};\n",
              "scope.google.colab._files = {\n",
              "  _uploadFiles,\n",
              "  _uploadFilesContinue,\n",
              "};\n",
              "})(self);\n",
              "</script> "
            ]
          },
          "metadata": {}
        },
        {
          "output_type": "stream",
          "name": "stdout",
          "text": [
            "Saving handwriting.zip to handwriting.zip\n"
          ]
        }
      ]
    },
    {
      "cell_type": "code",
      "source": [
        "import zipfile\n",
        "import os\n",
        "import shutil\n",
        "\n",
        "zip_filename = \"/content/handwriting.zip\"\n",
        "extract_to = \"/content/handwriting/\"  # Correct extraction path\n",
        "\n",
        "# Ensure the target directory is empty before extraction\n",
        "if os.path.exists(extract_to):\n",
        "    shutil.rmtree(extract_to)\n",
        "\n",
        "# Extract ZIP file\n",
        "with zipfile.ZipFile(zip_filename, 'r') as zip_ref:\n",
        "    zip_ref.extractall(extract_to)\n",
        "\n",
        "print(\"✅ Dataset extracted to:\", extract_to)\n",
        "\n",
        "# Verify extraction\n",
        "!ls -R /content/handwriting/\n",
        "\n"
      ],
      "metadata": {
        "colab": {
          "base_uri": "https://localhost:8080/"
        },
        "id": "HL4kctEF2c4F",
        "outputId": "52b31110-a38b-4cfd-8014-c91587c2b67c"
      },
      "execution_count": 17,
      "outputs": [
        {
          "output_type": "stream",
          "name": "stdout",
          "text": [
            "✅ Dataset extracted to: /content/handwriting/\n",
            "/content/handwriting/:\n",
            "test  train\n",
            "\n",
            "/content/handwriting/test:\n",
            "0  1  2  3  4  5  6  7\t8  9\n",
            "\n",
            "/content/handwriting/test/0:\n",
            "digit_0_ccc06c12-1951-11e9-b486-309c2384bdbc.jpg  digit_0_ccf22a66-1951-11e9-8621-309c2384bdbc.jpg\n",
            "digit_0_ccc4ffde-1951-11e9-ab0d-309c2384bdbc.jpg  digit_0_ccf3ff2e-1951-11e9-90f1-309c2384bdbc.jpg\n",
            "digit_0_ccc5ea46-1951-11e9-8892-309c2384bdbc.jpg  digit_0_ccf7f6b6-1951-11e9-9100-309c2384bdbc.jpg\n",
            "digit_0_ccef6b46-1951-11e9-bafb-309c2384bdbc.jpg  digit_0_ccf81dcc-1951-11e9-a37b-309c2384bdbc.jpg\n",
            "digit_0_ccf0a3ca-1951-11e9-9680-309c2384bdbc.jpg  digit_0_ccf9f29a-1951-11e9-82a8-309c2384bdbc.jpg\n",
            "\n",
            "/content/handwriting/test/1:\n",
            "digit1__f6553500-bd9b-11e7-8d1c-327da8d6bd0e.jpg  digit1__fceb933c-5d4c-11e7-a1da-86a857f0136a.jpg\n",
            "digit1__f8156930-8a8a-11e7-a46b-66ea4b620b09.jpg  digit1__fda84132-be16-11e7-93bf-de3f7c15671c.jpg\n",
            "digit1__faa7ffe6-8aa3-11e7-aa75-32ad16d2437a.jpg  digit1__fdb21a70-c5d9-11e7-a0bd-864837419dd5.jpg\n",
            "digit1__fab9167a-b7bf-11e7-8cc3-6eb6f8a54eb3.jpg  digit1__fe0e1b98-bd93-11e7-8d1c-327da8d6bd0e.jpg\n",
            "digit1__fb5ce2f8-bd7f-11e7-8d1c-327da8d6bd0e.jpg  digit1__fe4789de-5d4c-11e7-a1da-86a857f0136a.jpg\n",
            "digit1__fc6ccb42-8a79-11e7-a46b-66ea4b620b09.jpg  digit1__fef6935e-d158-11e7-a9c0-3a21e1de4a6f.jpg\n",
            "digit1__fc88655e-7b5c-11e7-b462-5e701671a7bf.jpg  digit1__ff9c5afa-8a36-11e7-8711-c2954b6b471a.jpg\n",
            "\n",
            "/content/handwriting/test/2:\n",
            "digit_2_cd0d536e-1951-11e9-a860-309c2384bdbc.jpg  digit_2_cd1c479a-1951-11e9-9520-309c2384bdbc.jpg\n",
            "digit_2_cd0f7664-1951-11e9-a366-309c2384bdbc.jpg  digit_2_cd1cbcc8-1951-11e9-82db-309c2384bdbc.jpg\n",
            "digit_2_cd1a24ac-1951-11e9-a81a-309c2384bdbc.jpg  digit_2_cd1d31f0-1951-11e9-a9f7-309c2384bdbc.jpg\n",
            "digit_2_cd1a99de-1951-11e9-96f6-309c2384bdbc.jpg  digit_2_cd1da728-1951-11e9-8745-309c2384bdbc.jpg\n",
            "digit_2_cd1b0f12-1951-11e9-b192-309c2384bdbc.jpg  digit_2_cd1e6a88-1951-11e9-875c-309c2384bdbc.jpg\n",
            "digit_2_cd1b5d34-1951-11e9-a3eb-309c2384bdbc.jpg  digit_2_cd1f54d2-1951-11e9-a5c4-309c2384bdbc.jpg\n",
            "\n",
            "/content/handwriting/test/3:\n",
            "digit3__f63168c8-9497-11e7-9af2-9efe346fcff1.jpg  digit3__fd260ed0-5dc0-11e7-a40a-a60f875217da.jpg\n",
            "digit3__f75297d0-c490-11e7-b047-0a60f7c0be57.jpg  digit3__fd656000-99e6-11e7-a830-02ecae3e9d07.jpg\n",
            "digit3__f9289226-89d0-11e7-9da8-0a4c3629aa41.jpg  digit3__fe4aee2c-7b5a-11e7-b462-5e701671a7bf.jpg\n",
            "digit3__fa4028ea-8999-11e7-8d1a-125feb8e7d66.jpg  digit3__fed3cdd6-888a-11e7-b727-da84fe90429f.jpg\n",
            "digit3__facc991e-7be4-11e7-93e1-16314faf1644.jpg  digit3__ff3c2e9a-e68a-11e7-8dfd-369a39094463.jpg\n",
            "digit3__fc59504a-c4c5-11e7-ae2c-c29d221465e3.jpg  digit3__ff9be6a8-c490-11e7-b047-0a60f7c0be57.jpg\n",
            "digit3__fc8d65ae-e40c-11e7-b207-62655c908d3a.jpg  digit3__ffc7c610-785f-11e7-86b3-96570e7ce6ce.jpg\n",
            "\n",
            "/content/handwriting/test/4:\n",
            "digit4__fc14e8ac-c069-11e7-8862-fe9591730732.jpg  digit4__fe385890-c9eb-11e7-92b7-0688a83cb04d.jpg\n",
            "digit4__fc70ed5a-90df-11e7-81c2-96334cd2fae7.jpg  digit4__fe59691c-a03e-11e7-ace1-be58306ef505.jpg\n",
            "digit4__fcb3261c-5dc1-11e7-a40a-a60f875217da.jpg  digit4__fedff730-d062-11e7-9bc4-c24f15e99a7a.jpg\n",
            "digit4__fd0f349e-8a5c-11e7-8711-c2954b6b471a.jpg  digit4__fee34294-d316-11e7-a75c-9ec0d7119745.jpg\n",
            "digit4__fd59edbe-c4cb-11e7-ae2c-c29d221465e3.jpg  digit4__ff4df768-5dc0-11e7-a40a-a60f875217da.jpg\n",
            "digit4__fd844604-be36-11e7-93bf-de3f7c15671c.jpg  digit4__ffb763b8-e517-11e7-806f-eed9fc033eb1.jpg\n",
            "digit4__fdb9b738-5dc1-11e7-a40a-a60f875217da.jpg  digit4__ffd424e6-89df-11e7-9da8-0a4c3629aa41.jpg\n",
            "digit4__fdc64b84-89d0-11e7-9da8-0a4c3629aa41.jpg  digit4__ffd66cf0-5dc1-11e7-a40a-a60f875217da.jpg\n",
            "\n",
            "/content/handwriting/test/5:\n",
            "digit5__f16728f2-8a77-11e7-a46b-66ea4b620b09.jpg  digit5__fc094aa2-9fc5-11e7-a8c1-1ad1d63611f6.jpg\n",
            "digit5__f6553ec8-ba22-11e7-82f5-fe39224f6f93.jpg  digit5__fc25c0f6-5e2a-11e7-9d0f-5a6b446d2afb.jpg\n",
            "digit5__f893191a-8a77-11e7-a46b-66ea4b620b09.jpg  digit5__fc4737a8-7eec-11e7-a4de-8a42f1f98111.jpg\n",
            "digit5__f9066f0a-a91c-11e7-b0d4-aa52cade2989.jpg  digit5__fda77154-5e2a-11e7-9d0f-5a6b446d2afb.jpg\n",
            "digit5__f95a2aac-d37c-11e7-85b8-ead3ae8caa2b.jpg  digit5__fef1544a-5d4d-11e7-a1da-86a857f0136a.jpg\n",
            "digit5__fa652104-5b68-11e7-9877-ea1cc63a887b.jpg  digit5__ff3d8d00-5e2a-11e7-9d0f-5a6b446d2afb.jpg\n",
            "digit5__fade9506-5e2a-11e7-9d0f-5a6b446d2afb.jpg  digit5__ff40dd20-7c98-11e7-8ed5-76495e55bd5f.jpg\n",
            "\n",
            "/content/handwriting/test/6:\n",
            "digit6__fb4b9b0c-89ee-11e7-9ac8-129d7ed4085b.jpg  digit6__fcff3794-90ea-11e7-81c2-96334cd2fae7.jpg\n",
            "digit6__fbc494cc-d236-11e7-b3c0-8aef4cde9e56.jpg  digit6__fddc83cc-8b01-11e7-afbb-4ab1508ae21b.jpg\n",
            "digit6__fbcf056c-cd5c-11e7-bdb0-4e0c5565691f.jpg  digit6__fe8b1788-bfff-11e7-9e4e-cafea47e21a6.jpg\n",
            "digit6__fc5807c2-89fa-11e7-8e40-c20f08f2039e.jpg  digit6__fece62a0-bd6a-11e7-8d1c-327da8d6bd0e.jpg\n",
            "digit6__fc8dca62-9948-11e7-9b6f-5a32877fd38a.jpg  digit6__ff132ada-cedf-11e7-b1cf-1a47f1b30ebf.jpg\n",
            "digit6__fcb06b7a-bdb1-11e7-8d1c-327da8d6bd0e.jpg  digit6__ff4ec95e-5b68-11e7-9877-ea1cc63a887b.jpg\n",
            "digit6__fcc5fc34-5b68-11e7-9877-ea1cc63a887b.jpg  digit6__ffef482a-898f-11e7-8d1a-125feb8e7d66.jpg\n",
            "\n",
            "/content/handwriting/test/7:\n",
            "digit7__f142158c-5b68-11e7-9877-ea1cc63a887b.jpg  digit7__f73342b6-8991-11e7-8d1a-125feb8e7d66.jpg\n",
            "digit7__f15350cc-8db8-11e7-ae56-f6db1d1f04d7.jpg  digit7__f9739a70-8988-11e7-8d1a-125feb8e7d66.jpg\n",
            "digit7__f196205e-bfff-11e7-9e4e-cafea47e21a6.jpg  digit7__fa4f7748-7d26-11e7-8269-521c149096c2.jpg\n",
            "digit7__f50635c8-8a47-11e7-8711-c2954b6b471a.jpg  digit7__fa637be0-7f96-11e7-bf1b-5a7a8e7d81ca.jpg\n",
            "digit7__f5927190-898f-11e7-8d1a-125feb8e7d66.jpg  digit7__fa7bcb56-bd9d-11e7-8d1c-327da8d6bd0e.jpg\n",
            "digit7__f724444a-89ce-11e7-9da8-0a4c3629aa41.jpg  digit7__fa986c32-7bf5-11e7-bd2f-b623c6a9110a.jpg\n",
            "\n",
            "/content/handwriting/test/8:\n",
            "digit8__fa718294-cd98-11e7-b8e9-32ab8a0cd94c.jpg  digit8__fd03ff82-c537-11e7-b362-121d973e3a6d.jpg\n",
            "digit8__fb071296-ddbf-11e7-ab17-4a8ed7f24b56.jpg  digit8__fd3f2b4a-d2a5-11e7-ad01-c68a6314e684.jpg\n",
            "digit8__fc68e1b4-8a36-11e7-8711-c2954b6b471a.jpg  digit8__fd425c22-78fd-11e7-b76f-7e570a2761d3.jpg\n",
            "digit8__fc74bccc-bda4-11e7-8d1c-327da8d6bd0e.jpg  digit8__fdbf799e-8db8-11e7-ae56-f6db1d1f04d7.jpg\n",
            "digit8__fc8c6c76-bd88-11e7-8d1c-327da8d6bd0e.jpg  digit8__fe565bec-a8fd-11e7-90e6-3a4c45a926a1.jpg\n",
            "digit8__fc9c8f2a-8c87-11e7-a82d-564635df1838.jpg  digit8__fe69bc6e-7b94-11e7-9c15-5aa99aa4e91d.jpg\n",
            "digit8__fcf1d230-d072-11e7-b252-2285339f3d63.jpg\n",
            "\n",
            "/content/handwriting/test/9:\n",
            "digit9__fcab1e0a-9704-11e7-ad83-7e6e624dc65f.jpg  digit9__fe3eda0a-a9ff-11e7-ad06-b6e5007b9248.jpg\n",
            "digit9__fcacae60-d911-11e7-aa05-027b08d7dc7b.jpg  digit9__fe695268-9fdb-11e7-a60e-eefae49e08cf.jpg\n",
            "digit9__fcaeb774-bd9f-11e7-8d1c-327da8d6bd0e.jpg  digit9__fea0bfb0-7c94-11e7-8ed5-76495e55bd5f.jpg\n",
            "digit9__fcb8b9f2-bd92-11e7-8d1c-327da8d6bd0e.jpg  digit9__feae9f2e-bf31-11e7-8091-c2be4edb2e63.jpg\n",
            "digit9__fcf51ea4-778a-11e7-b1e8-32a7b16b0b8b.jpg  digit9__ffccb99a-be1e-11e7-93bf-de3f7c15671c.jpg\n",
            "digit9__fd56aea6-9fc8-11e7-a8c1-1ad1d63611f6.jpg  digit9__fff32060-7b13-11e7-bddc-321fc710db8c.jpg\n",
            "digit9__fde0c426-b2fe-11e7-8e12-ea534170a09c.jpg  digit9__fffbdb4c-bd7b-11e7-8d1c-327da8d6bd0e.jpg\n",
            "\n",
            "/content/handwriting/train:\n",
            "0  1  2  3  4  5  6  7\t8  9\n",
            "\n",
            "/content/handwriting/train/0:\n",
            "digit_0_ccb373c6-1951-11e9-a89b-309c2384bdbc.jpg  digit_0_ccb87cca-1951-11e9-8ab3-309c2384bdbc.jpg\n",
            "digit_0_ccb4ac36-1951-11e9-9631-309c2384bdbc.jpg  digit_0_ccb9b538-1951-11e9-adfb-309c2384bdbc.jpg\n",
            "digit_0_ccb54864-1951-11e9-a4ac-309c2384bdbc.jpg  digit_0_ccbc4d46-1951-11e9-bcc0-309c2384bdbc.jpg\n",
            "digit_0_ccb56f80-1951-11e9-9f21-309c2384bdbc.jpg  digit_0_ccbd10a2-1951-11e9-a469-309c2384bdbc.jpg\n",
            "digit_0_ccb5968c-1951-11e9-bf06-309c2384bdbc.jpg  digit_0_ccbe491c-1951-11e9-9e80-309c2384bdbc.jpg\n",
            "digit_0_ccb60bb4-1951-11e9-a9c3-309c2384bdbc.jpg  digit_0_ccbebe46-1951-11e9-9b00-309c2384bdbc.jpg\n",
            "digit_0_ccb680ec-1951-11e9-b6d7-309c2384bdbc.jpg  digit_0_ccbf3374-1951-11e9-803b-309c2384bdbc.jpg\n",
            "digit_0_ccb74438-1951-11e9-8979-309c2384bdbc.jpg  digit_0_ccbff6e2-1951-11e9-9cd1-309c2384bdbc.jpg\n",
            "digit_0_ccb7925a-1951-11e9-8e1e-309c2384bdbc.jpg  digit_0_ccc0ba2e-1951-11e9-a464-309c2384bdbc.jpg\n",
            "digit_0_ccb7e078-1951-11e9-a9d8-309c2384bdbc.jpg  digit_0_ccc4d8d2-1951-11e9-a833-309c2384bdbc.jpg\n",
            "\n",
            "/content/handwriting/train/1:\n",
            "digit1__f0237288-bdae-11e7-8d1c-327da8d6bd0e.jpg  digit1__f6144a72-8e7f-11e7-a39a-2eef2afe13fb.jpg\n",
            "digit1__f04969d8-c2eb-11e7-a5d9-06065fb1d1a7.jpg  digit1__f66c4d60-8aa3-11e7-aa75-32ad16d2437a.jpg\n",
            "digit1__f04e54e6-c54f-11e7-9f33-fe71c78ca287.jpg  digit1__f6755a38-8fdd-11e7-bac9-464deb20be9b.jpg\n",
            "digit1__f0938760-785f-11e7-86b3-96570e7ce6ce.jpg  digit1__f6782ee0-e454-11e7-9320-f2af43b26bf4.jpg\n",
            "digit1__f1610434-775f-11e7-a2cc-de826026db37.jpg  digit1__f69fc6ae-bd70-11e7-8d1c-327da8d6bd0e.jpg\n",
            "digit1__f1dd9a9c-adc6-11e7-b75a-2a4149f36531.jpg  digit1__f6a9e662-7b5c-11e7-b462-5e701671a7bf.jpg\n",
            "digit1__f20ad946-cb0b-11e7-a8c1-462b76911ab2.jpg  digit1__f8c15aaa-df5e-11e7-ad7a-46c334f17e86.jpg\n",
            "digit1__f2a742dc-99e6-11e7-a830-02ecae3e9d07.jpg  digit1__f91b8e8c-c512-11e7-b745-52a893e70b3e.jpg\n",
            "digit1__f53e9a48-8d6d-11e7-abbe-ee433f1a203d.jpg  digit1__f9e06ffa-8105-11e7-984b-5656a5074868.jpg\n",
            "digit1__f5897860-89a3-11e7-8d1a-125feb8e7d66.jpg  digit1__f9e3afc2-9400-11e7-b438-7613de872a60.jpg\n",
            "digit1__f5c65d72-c4de-11e7-bff2-225cf3d24e3d.jpg  digit1__f9fbf098-783d-11e7-a392-16d91016c248.jpg\n",
            "digit1__f5eab3d2-bd92-11e7-8d1c-327da8d6bd0e.jpg\n",
            "\n",
            "/content/handwriting/train/2:\n",
            "digit_2_cc9739da-1951-11e9-b740-309c2384bdbc.jpg  digit_2_ccf389fa-1951-11e9-b8ae-309c2384bdbc.jpg\n",
            "digit_2_cc97ae5a-1951-11e9-8379-309c2384bdbc.jpg  digit_2_ccf51092-1951-11e9-a6c8-309c2384bdbc.jpg\n",
            "digit_2_cc98e6e4-1951-11e9-8d1b-309c2384bdbc.jpg  digit_2_ccf6700c-1951-11e9-a86b-309c2384bdbc.jpg\n",
            "digit_2_cc9f0152-1951-11e9-92df-309c2384bdbc.jpg  digit_2_ccf73366-1951-11e9-ac9c-309c2384bdbc.jpg\n",
            "digit_2_cca0880a-1951-11e9-b448-309c2384bdbc.jpg  digit_2_ccf8e124-1951-11e9-9e4f-309c2384bdbc.jpg\n",
            "digit_2_cca0fd2c-1951-11e9-ba6c-309c2384bdbc.jpg  digit_2_ccfa40a8-1951-11e9-b693-309c2384bdbc.jpg\n",
            "digit_2_cca12436-1951-11e9-889e-309c2384bdbc.jpg  digit_2_ccfb03fa-1951-11e9-b05e-309c2384bdbc.jpg\n",
            "digit_2_ccbb14d8-1951-11e9-b071-309c2384bdbc.jpg  digit_2_ccfbc742-1951-11e9-9ba0-309c2384bdbc.jpg\n",
            "digit_2_cccd8b68-1951-11e9-9511-309c2384bdbc.jpg  digit_2_ccfcb1b0-1951-11e9-8bbe-309c2384bdbc.jpg\n",
            "digit_2_ccd1d11c-1951-11e9-b27f-309c2384bdbc.jpg  digit_2_ccfd4df4-1951-11e9-9663-309c2384bdbc.jpg\n",
            "digit_2_ccd2bb82-1951-11e9-82e9-309c2384bdbc.jpg  digit_2_ccfe5f58-1951-11e9-b5ba-309c2384bdbc.jpg\n",
            "digit_2_ccd3a5e2-1951-11e9-a32f-309c2384bdbc.jpg  digit_2_ccfefb9e-1951-11e9-b459-309c2384bdbc.jpg\n",
            "digit_2_ccd4b770-1951-11e9-b674-309c2384bdbc.jpg  digit_2_ccff97de-1951-11e9-bed1-309c2384bdbc.jpg\n",
            "digit_2_ccd57ab0-1951-11e9-9bf7-309c2384bdbc.jpg  digit_2_cd00d05a-1951-11e9-9e4a-309c2384bdbc.jpg\n",
            "digit_2_ccec0fe2-1951-11e9-8f33-309c2384bdbc.jpg  digit_2_cd0abb6c-1951-11e9-953f-309c2384bdbc.jpg\n",
            "digit_2_ccef1d2e-1951-11e9-8a07-309c2384bdbc.jpg  digit_2_cd0b7eb4-1951-11e9-a5fe-309c2384bdbc.jpg\n",
            "digit_2_ccf02ea4-1951-11e9-bf27-309c2384bdbc.jpg  digit_2_cd0c6914-1951-11e9-9d09-309c2384bdbc.jpg\n",
            "digit_2_ccf1dc46-1951-11e9-91f0-309c2384bdbc.jpg\n",
            "\n",
            "/content/handwriting/train/3:\n",
            "digit3__ea561dd6-d37c-11e7-85b8-ead3ae8caa2b.jpg  digit3__f3553f70-92f9-11e7-a3da-eaca9c1e6e3f.jpg\n",
            "digit3__ea83429c-c20c-11e7-b43e-462486a9cd93.jpg  digit3__f39d022c-7eec-11e7-a4de-8a42f1f98111.jpg\n",
            "digit3__eae87bd4-89e6-11e7-9da8-0a4c3629aa41.jpg  digit3__f4275c5c-97aa-11e7-a52c-bad3e5017435.jpg\n",
            "digit3__eccd1cce-cd35-11e7-bdb0-4e0c5565691f.jpg  digit3__f465c450-7b13-11e7-bddc-321fc710db8c.jpg\n",
            "digit3__ecda1768-ce29-11e7-b0ee-227984da8433.jpg  digit3__f467be7e-89d0-11e7-9da8-0a4c3629aa41.jpg\n",
            "digit3__ececb532-5dc0-11e7-a40a-a60f875217da.jpg  digit3__f473adf6-e40c-11e7-b207-62655c908d3a.jpg\n",
            "digit3__ed38b03e-8991-11e7-8d1a-125feb8e7d66.jpg  digit3__f49b0cec-7c98-11e7-8ed5-76495e55bd5f.jpg\n",
            "digit3__edf13ede-89c2-11e7-9da8-0a4c3629aa41.jpg  digit3__f4a64ad6-5dc0-11e7-a40a-a60f875217da.jpg\n",
            "digit3__ee4ceb7c-5dc0-11e7-a40a-a60f875217da.jpg  digit3__f5cfe3ee-97b4-11e7-a52c-bad3e5017435.jpg\n",
            "digit3__ee92b7fe-bd99-11e7-8d1c-327da8d6bd0e.jpg  digit3__f5dd58bc-c0c7-11e7-b545-9afb5692ec65.jpg\n",
            "digit3__efc08554-5dc0-11e7-a40a-a60f875217da.jpg  digit3__f5de4dce-bd9a-11e7-8d1c-327da8d6bd0e.jpg\n",
            "digit3__f18ba6ca-d37c-11e7-85b8-ead3ae8caa2b.jpg  digit3__f606b992-5dc0-11e7-a40a-a60f875217da.jpg\n",
            "digit3__f18e0572-8990-11e7-8d1a-125feb8e7d66.jpg  digit3__f63d030a-7b5a-11e7-b462-5e701671a7bf.jpg\n",
            "digit3__f1aac386-e0db-11e7-ba88-828f4fca848f.jpg  digit3__f6dee3ba-bd99-11e7-8d1c-327da8d6bd0e.jpg\n",
            "digit3__f1bfbc64-8e6a-11e7-a678-d62c9b4ce4d0.jpg  digit3__f76c7a48-cedf-11e7-b1cf-1a47f1b30ebf.jpg\n",
            "digit3__f20ef53a-89b6-11e7-9da8-0a4c3629aa41.jpg  digit3__f7aab346-8aa9-11e7-aa75-32ad16d2437a.jpg\n",
            "digit3__f21ee8c2-5dc0-11e7-a40a-a60f875217da.jpg  digit3__f7ae9710-5dc0-11e7-a40a-a60f875217da.jpg\n",
            "digit3__f255cae6-bd87-11e7-8d1c-327da8d6bd0e.jpg  digit3__f8ec4320-5dc0-11e7-a40a-a60f875217da.jpg\n",
            "digit3__f334a5de-777f-11e7-a5a0-fe17f9bc3e00.jpg\n",
            "\n",
            "/content/handwriting/train/4:\n",
            "digit4__f00f9e32-bf31-11e7-8091-c2be4edb2e63.jpg  digit4__f7f2e87a-5d4d-11e7-a1da-86a857f0136a.jpg\n",
            "digit4__f0780ba2-5d4d-11e7-a1da-86a857f0136a.jpg  digit4__f82844b2-8989-11e7-8d1a-125feb8e7d66.jpg\n",
            "digit4__f0948bc8-bd93-11e7-8d1c-327da8d6bd0e.jpg  digit4__f8b190ae-785f-11e7-86b3-96570e7ce6ce.jpg\n",
            "digit4__f1bd6836-bd6a-11e7-8d1c-327da8d6bd0e.jpg  digit4__f8dd7f4a-8e6a-11e7-a678-d62c9b4ce4d0.jpg\n",
            "digit4__f3399838-89d0-11e7-9da8-0a4c3629aa41.jpg  digit4__f91a7078-5dc1-11e7-a40a-a60f875217da.jpg\n",
            "digit4__f3bf1c58-cc9f-11e7-9394-9af51ff7f2db.jpg  digit4__f91f3bca-9fc6-11e7-a8c1-1ad1d63611f6.jpg\n",
            "digit4__f3c0d8ce-c4f5-11e7-b745-52a893e70b3e.jpg  digit4__f92897de-c4f5-11e7-b745-52a893e70b3e.jpg\n",
            "digit4__f4393d9e-7d26-11e7-8269-521c149096c2.jpg  digit4__f99652a4-e0db-11e7-ba88-828f4fca848f.jpg\n",
            "digit4__f4c563e0-be36-11e7-93bf-de3f7c15671c.jpg  digit4__f99dac46-5d4d-11e7-a1da-86a857f0136a.jpg\n",
            "digit4__f5508eca-8a79-11e7-a46b-66ea4b620b09.jpg  digit4__fa3b572e-7c98-11e7-8ed5-76495e55bd5f.jpg\n",
            "digit4__f600df8a-5dc1-11e7-a40a-a60f875217da.jpg  digit4__fa51cfb2-c677-11e7-a24b-8ad551d445fe.jpg\n",
            "digit4__f630b8fa-bd6a-11e7-8d1c-327da8d6bd0e.jpg  digit4__fa8d89ae-5dc1-11e7-a40a-a60f875217da.jpg\n",
            "digit4__f6529b36-e0f7-11e7-8284-0e984da12377.jpg  digit4__fb3362f4-e163-11e7-bdb6-ca9ef160c82f.jpg\n",
            "digit4__f6fcd22c-5dc1-11e7-a40a-a60f875217da.jpg  digit4__fc0eb0ac-bd87-11e7-8d1c-327da8d6bd0e.jpg\n",
            "\n",
            "/content/handwriting/train/5:\n",
            "digit5__e13d57ee-b28b-11e7-a07d-c60a928586c4.jpg  digit5__e8d856ca-7eec-11e7-a4de-8a42f1f98111.jpg\n",
            "digit5__e1b1b0a6-d911-11e7-aa05-027b08d7dc7b.jpg  digit5__e99a033c-9ae0-11e7-9ea8-1a42ae60838f.jpg\n",
            "digit5__e1e90f58-8a77-11e7-a46b-66ea4b620b09.jpg  digit5__ea8c7ec6-8b1f-11e7-afbb-4ab1508ae21b.jpg\n",
            "digit5__e30fc90e-c518-11e7-b745-52a893e70b3e.jpg  digit5__eb3c1036-a12f-11e7-bad8-cacc6e3ca094.jpg\n",
            "digit5__e3658a98-5a4b-11e7-aa59-86b97cbd5705.jpg  digit5__ec2fc178-8a77-11e7-a46b-66ea4b620b09.jpg\n",
            "digit5__e4b7ebc0-7968-11e7-9b3f-82ade1d7b529.jpg  digit5__ec6c5f12-cd33-11e7-bdb0-4e0c5565691f.jpg\n",
            "digit5__e5034998-810c-11e7-bf17-f63f0c767dcd.jpg  digit5__ef214c66-cb6e-11e7-9c1b-9ae242764cd5.jpg\n",
            "digit5__e6f5fa14-8992-11e7-8d1a-125feb8e7d66.jpg  digit5__f3e8f76e-c57c-11e7-9f33-fe71c78ca287.jpg\n",
            "digit5__e6f60fc0-c4c7-11e7-ae2c-c29d221465e3.jpg  digit5__f49d5a9a-bd8b-11e7-8d1c-327da8d6bd0e.jpg\n",
            "digit5__e745e144-9948-11e7-9b6f-5a32877fd38a.jpg  digit5__f6c982d8-96dc-11e7-9214-b25e4651b1c2.jpg\n",
            "digit5__e7db3af0-e3f3-11e7-b91a-16f7dc51bef2.jpg  digit5__f85d2b10-a300-11e7-b3c4-0295688ae960.jpg\n",
            "digit5__e8d2ff22-8991-11e7-8d1a-125feb8e7d66.jpg  digit5__f89f5db4-99e6-11e7-a830-02ecae3e9d07.jpg\n",
            "\n",
            "/content/handwriting/train/6:\n",
            "digit6__db225e98-c4c1-11e7-ae2c-c29d221465e3.jpg  digit6__e5f6bfde-5b68-11e7-9877-ea1cc63a887b.jpg\n",
            "digit6__dbf9f646-7ba6-11e7-8aa1-9a554afd8682.jpg  digit6__e67c8c22-8c87-11e7-a82d-564635df1838.jpg\n",
            "digit6__dcad9522-bd76-11e7-8d1c-327da8d6bd0e.jpg  digit6__e8d1372a-5b68-11e7-9877-ea1cc63a887b.jpg\n",
            "digit6__dcb0d880-92d4-11e7-971d-96806ae21e28.jpg  digit6__e9845e86-cd64-11e7-b8e9-32ab8a0cd94c.jpg\n",
            "digit6__dcb6f3c6-5b68-11e7-9877-ea1cc63a887b.jpg  digit6__e9e38854-e0db-11e7-ba88-828f4fca848f.jpg\n",
            "digit6__dd467270-7851-11e7-a87f-464fef3f0fc6.jpg  digit6__ea167654-8db8-11e7-ae56-f6db1d1f04d7.jpg\n",
            "digit6__de01751e-bd90-11e7-8d1c-327da8d6bd0e.jpg  digit6__ea3c9a8c-5b68-11e7-9877-ea1cc63a887b.jpg\n",
            "digit6__de3f90ea-5b68-11e7-9877-ea1cc63a887b.jpg  digit6__eab84988-8995-11e7-8d1a-125feb8e7d66.jpg\n",
            "digit6__de64c314-8990-11e7-8d1a-125feb8e7d66.jpg  digit6__eb03bc06-a150-11e7-90be-421607630917.jpg\n",
            "digit6__dfc81f36-5b68-11e7-9877-ea1cc63a887b.jpg  digit6__eb0c6890-9667-11e7-8b12-7a9aaf990eac.jpg\n",
            "digit6__dfd60d6c-a14f-11e7-90be-421607630917.jpg  digit6__ebc84748-5b68-11e7-9877-ea1cc63a887b.jpg\n",
            "digit6__e02afcaa-5a4b-11e7-aa59-86b97cbd5705.jpg  digit6__ec57c0b8-8fdd-11e7-bac9-464deb20be9b.jpg\n",
            "digit6__e14bf7c4-5b68-11e7-9877-ea1cc63a887b.jpg  digit6__ecbce084-bd72-11e7-8d1c-327da8d6bd0e.jpg\n",
            "digit6__e1a7cf18-779c-11e7-8a44-2e0abec3194f.jpg  digit6__ed33ca52-a08d-11e7-b164-52259d810ad5.jpg\n",
            "digit6__e1f7412c-a615-11e7-a8c9-a6e283c94421.jpg  digit6__ed4edb40-5b68-11e7-9877-ea1cc63a887b.jpg\n",
            "digit6__e2e283c8-5b68-11e7-9877-ea1cc63a887b.jpg  digit6__ed51514c-d0dc-11e7-9c5f-66e5735b3d56.jpg\n",
            "digit6__e3eb195c-8993-11e7-8d1a-125feb8e7d66.jpg  digit6__ed705b3e-bd7f-11e7-8d1c-327da8d6bd0e.jpg\n",
            "digit6__e4788bb4-8aa3-11e7-aa75-32ad16d2437a.jpg  digit6__ee06a9dc-7b57-11e7-b462-5e701671a7bf.jpg\n",
            "digit6__e47f873a-5b68-11e7-9877-ea1cc63a887b.jpg  digit6__ee9aaf4e-8988-11e7-8d1a-125feb8e7d66.jpg\n",
            "digit6__e4b331d2-a615-11e7-a8c9-a6e283c94421.jpg  digit6__f84148fe-80f1-11e7-984b-5656a5074868.jpg\n",
            "digit6__e5a619c0-a150-11e7-90be-421607630917.jpg  digit6__fa34414a-cd7a-11e7-b8e9-32ab8a0cd94c.jpg\n",
            "\n",
            "/content/handwriting/train/7:\n",
            "digit7__fb3942b0-99be-11e7-b6f6-66858a422b81.jpg  digit7__fce872a6-8993-11e7-8d1a-125feb8e7d66.jpg\n",
            "digit7__fb3df152-7be1-11e7-93e1-16314faf1644.jpg  digit7__fe254ab0-7e79-11e7-900a-16fd5b2f8b95.jpg\n",
            "digit7__fb487142-810c-11e7-bf17-f63f0c767dcd.jpg  digit7__fe578842-8e03-11e7-b7aa-3ee8d1bd0047.jpg\n",
            "digit7__fb68fb9a-a2bf-11e7-9a3d-fea38022f451.jpg  digit7__fe6f167e-c193-11e7-91c3-e24b5c79bb31.jpg\n",
            "digit7__fc162198-91fe-11e7-ac3a-0a6d0d1c4bcb.jpg  digit7__fed6d64a-8991-11e7-8d1a-125feb8e7d66.jpg\n",
            "digit7__fc296ab0-89ce-11e7-9da8-0a4c3629aa41.jpg  digit7__ffbdb952-8c89-11e7-a82d-564635df1838.jpg\n",
            "digit7__fc4a1898-7dab-11e7-96ee-06bb279d6ac5.jpg  digit7__ffe9bed6-bdac-11e7-8d1c-327da8d6bd0e.jpg\n",
            "digit7__fca3b794-e4ea-11e7-b446-1eb4338d5afc.jpg\n",
            "\n",
            "/content/handwriting/train/8:\n",
            "digit8__e2685884-a2bf-11e7-9a3d-fea38022f451.jpg  digit8__ee689294-b8f3-11e7-936c-32f79094024d.jpg\n",
            "digit8__e49484ac-d05a-11e7-9bc4-c24f15e99a7a.jpg  digit8__eea7ddd2-8991-11e7-8d1a-125feb8e7d66.jpg\n",
            "digit8__e6538522-78ee-11e7-b53c-a23965fd06cd.jpg  digit8__eeea7484-78fd-11e7-b76f-7e570a2761d3.jpg\n",
            "digit8__ea045daa-5afc-11e7-8138-8ed7ee2c7610.jpg  digit8__ef92aa12-8714-11e7-a963-4ea270fc2a23.jpg\n",
            "digit8__ea93754c-bd73-11e7-8d1c-327da8d6bd0e.jpg  digit8__efa7b69e-835b-11e7-86a5-9ec8021df314.jpg\n",
            "digit8__ead2c6c2-ddbf-11e7-ab17-4a8ed7f24b56.jpg  digit8__f0d1d406-8a85-11e7-a46b-66ea4b620b09.jpg\n",
            "digit8__eb3d5858-8990-11e7-8d1a-125feb8e7d66.jpg  digit8__f0d74b80-794a-11e7-af70-12618de3e27d.jpg\n",
            "digit8__eb56f85c-8b17-11e7-afbb-4ab1508ae21b.jpg  digit8__f0f34d02-b4ce-11e7-be09-ca3dd9e45460.jpg\n",
            "digit8__eb59af62-7874-11e7-b29a-5a4be7d5ff17.jpg  digit8__f19e7eb8-d088-11e7-a535-9e14b63bc9f9.jpg\n",
            "digit8__ebaa322a-bda7-11e7-8d1c-327da8d6bd0e.jpg  digit8__f255efa0-89c3-11e7-9da8-0a4c3629aa41.jpg\n",
            "digit8__ebd1c410-5cd7-11e7-89ae-fe8fc540ab07.jpg  digit8__f25f91d8-e3f3-11e7-b91a-16f7dc51bef2.jpg\n",
            "digit8__ed08198a-e40c-11e7-b207-62655c908d3a.jpg  digit8__f26da056-8a7b-11e7-a46b-66ea4b620b09.jpg\n",
            "digit8__ed1a926c-8cbf-11e7-9e6d-0a8fc15544ba.jpg  digit8__f2d267b6-7874-11e7-b29a-5a4be7d5ff17.jpg\n",
            "digit8__ed396fbe-8988-11e7-8d1a-125feb8e7d66.jpg  digit8__f3cb8af0-c4c1-11e7-ae2c-c29d221465e3.jpg\n",
            "digit8__ed44823a-7be3-11e7-93e1-16314faf1644.jpg  digit8__f7c0e1e8-c866-11e7-a3c1-06ecbee5309e.jpg\n",
            "digit8__ed4a9668-99e6-11e7-a830-02ecae3e9d07.jpg  digit8__f97a6454-918a-11e7-85f6-4a1bf437f6ba.jpg\n",
            "digit8__ed598094-7b3a-11e7-bb2b-7a8f211de5d5.jpg  digit8__f99e4c1c-8a36-11e7-8711-c2954b6b471a.jpg\n",
            "digit8__edb6690c-786b-11e7-bdf9-268fc94f6afe.jpg  digit8__f9e73420-89b6-11e7-9da8-0a4c3629aa41.jpg\n",
            "digit8__edc8a702-5cd7-11e7-89ae-fe8fc540ab07.jpg  digit8__f9fb01c4-8a7b-11e7-a46b-66ea4b620b09.jpg\n",
            "digit8__edf3742c-78ee-11e7-b53c-a23965fd06cd.jpg  digit8__fa64813e-84e6-11e7-9b06-badae72537da.jpg\n",
            "digit8__ee236264-898c-11e7-8d1a-125feb8e7d66.jpg  digit8__fa6e3626-cd42-11e7-bdb0-4e0c5565691f.jpg\n",
            "\n",
            "/content/handwriting/train/9:\n",
            "digit9__f0467f78-89d1-11e7-9da8-0a4c3629aa41.jpg  digit9__f8b9ddac-9472-11e7-9a80-f22068c9f976.jpg\n",
            "digit9__f081f02a-5afc-11e7-8138-8ed7ee2c7610.jpg  digit9__f8f9bdd8-8990-11e7-8d1a-125feb8e7d66.jpg\n",
            "digit9__f08cf2ca-a07c-11e7-b164-52259d810ad5.jpg  digit9__fa4f05d2-d2ea-11e7-b971-36985145d8fc.jpg\n",
            "digit9__f14e98d8-bd7f-11e7-8d1c-327da8d6bd0e.jpg  digit9__fbd00138-89c3-11e7-9da8-0a4c3629aa41.jpg\n",
            "digit9__f24681c0-c512-11e7-b745-52a893e70b3e.jpg  digit9__fbfd399c-bdcf-11e7-8d1c-327da8d6bd0e.jpg\n",
            "digit9__f24b102a-bda4-11e7-8d1c-327da8d6bd0e.jpg  digit9__fc70ba12-794a-11e7-af70-12618de3e27d.jpg\n",
            "digit9__f29f41b4-7c94-11e7-8ed5-76495e55bd5f.jpg  digit9__fcab1e0a-9704-11e7-ad83-7e6e624dc65f.jpg\n",
            "digit9__f30f55d8-8993-11e7-8d1a-125feb8e7d66.jpg  digit9__fcacae60-d911-11e7-aa05-027b08d7dc7b.jpg\n",
            "digit9__f3386080-8b0b-11e7-afbb-4ab1508ae21b.jpg  digit9__fcaeb774-bd9f-11e7-8d1c-327da8d6bd0e.jpg\n",
            "digit9__f33d22f8-bd76-11e7-8d1c-327da8d6bd0e.jpg  digit9__fcb8b9f2-bd92-11e7-8d1c-327da8d6bd0e.jpg\n",
            "digit9__f447d38c-b2fe-11e7-8e12-ea534170a09c.jpg  digit9__fcf51ea4-778a-11e7-b1e8-32a7b16b0b8b.jpg\n",
            "digit9__f4717940-7be9-11e7-93e1-16314faf1644.jpg  digit9__fd56aea6-9fc8-11e7-a8c1-1ad1d63611f6.jpg\n",
            "digit9__f53c7ec4-cd29-11e7-bdb0-4e0c5565691f.jpg  digit9__fde0c426-b2fe-11e7-8e12-ea534170a09c.jpg\n",
            "digit9__f620fd4e-89ac-11e7-9da8-0a4c3629aa41.jpg  digit9__fe3eda0a-a9ff-11e7-ad06-b6e5007b9248.jpg\n",
            "digit9__f72d2674-b92a-11e7-aba8-da60a9d2e4ca.jpg  digit9__fe695268-9fdb-11e7-a60e-eefae49e08cf.jpg\n",
            "digit9__f7543bba-778a-11e7-b1e8-32a7b16b0b8b.jpg  digit9__fea0bfb0-7c94-11e7-8ed5-76495e55bd5f.jpg\n",
            "digit9__f7547ed0-a053-11e7-ace1-be58306ef505.jpg  digit9__feae9f2e-bf31-11e7-8091-c2be4edb2e63.jpg\n",
            "digit9__f7a3c022-5afc-11e7-8138-8ed7ee2c7610.jpg  digit9__ffccb99a-be1e-11e7-93bf-de3f7c15671c.jpg\n",
            "digit9__f7d3cb5a-b8f3-11e7-936c-32f79094024d.jpg  digit9__fff32060-7b13-11e7-bddc-321fc710db8c.jpg\n",
            "digit9__f8a01876-bd9a-11e7-8d1c-327da8d6bd0e.jpg  digit9__fffbdb4c-bd7b-11e7-8d1c-327da8d6bd0e.jpg\n",
            "digit9__f8af8406-7c94-11e7-8ed5-76495e55bd5f.jpg\n"
          ]
        }
      ]
    },
    {
      "cell_type": "code",
      "source": [
        "base_dir = \"/content/handwriting/\"\n",
        "train_dir = os.path.join(base_dir, \"train\")\n",
        "test_dir = os.path.join(base_dir, \"test\")\n",
        "\n",
        "if os.path.exists(train_dir):\n",
        "    print(\"✅ Train directory found!\")\n",
        "else:\n",
        "    print(\"❌ Train directory NOT found!\")\n",
        "\n",
        "if os.path.exists(test_dir):\n",
        "    print(\"✅ Test directory found!\")\n",
        "else:\n",
        "    print(\"❌ Test directory NOT found!\")\n"
      ],
      "metadata": {
        "colab": {
          "base_uri": "https://localhost:8080/"
        },
        "id": "MC_XCNSn2Q2U",
        "outputId": "49e8607e-674f-4d61-83bb-3711c3d595bd"
      },
      "execution_count": 18,
      "outputs": [
        {
          "output_type": "stream",
          "name": "stdout",
          "text": [
            "✅ Train directory found!\n",
            "✅ Test directory found!\n"
          ]
        }
      ]
    },
    {
      "cell_type": "code",
      "source": [
        "print(\"TensorFlow Version:\", tf.__version__)"
      ],
      "metadata": {
        "id": "V1qpGUZtYMH8",
        "colab": {
          "base_uri": "https://localhost:8080/"
        },
        "outputId": "37715493-eb83-4f84-ddae-4e6d514658d0"
      },
      "execution_count": 19,
      "outputs": [
        {
          "output_type": "stream",
          "name": "stdout",
          "text": [
            "TensorFlow Version: 2.18.0\n"
          ]
        }
      ]
    },
    {
      "cell_type": "code",
      "source": [
        "# Image parameters\n",
        "img_height = 28\n",
        "img_width = 28\n",
        "batch_size = 32\n",
        "\n",
        "# Load training dataset\n",
        "train_ds = keras.preprocessing.image_dataset_from_directory(\n",
        "    train_dir,\n",
        "    image_size=(img_height, img_width),\n",
        "    color_mode=\"grayscale\",\n",
        "    batch_size=batch_size,\n",
        "    label_mode=\"categorical\"\n",
        ")\n",
        "\n",
        "# Load test dataset\n",
        "test_ds = keras.preprocessing.image_dataset_from_directory(\n",
        "    test_dir,\n",
        "    image_size=(img_height, img_width),\n",
        "    color_mode=\"grayscale\",\n",
        "    batch_size=batch_size,\n",
        "    label_mode=\"categorical\"\n",
        ")\n",
        "\n",
        "# Optimize dataset loading\n",
        "AUTOTUNE = tf.data.AUTOTUNE\n",
        "train_ds = train_ds.prefetch(buffer_size=AUTOTUNE)\n",
        "test_ds = test_ds.prefetch(buffer_size=AUTOTUNE)\n",
        "\n",
        "print(\"Dataset loaded successfully!\")\n",
        "\n"
      ],
      "metadata": {
        "id": "c1hXFr0rYSIz",
        "colab": {
          "base_uri": "https://localhost:8080/"
        },
        "outputId": "72b7ba12-d4c0-4973-a0b5-c386bc24c2e7"
      },
      "execution_count": 20,
      "outputs": [
        {
          "output_type": "stream",
          "name": "stdout",
          "text": [
            "Found 307 files belonging to 10 classes.\n",
            "Found 133 files belonging to 10 classes.\n",
            "Dataset loaded successfully!\n"
          ]
        }
      ]
    },
    {
      "cell_type": "code",
      "source": [
        "model = keras.Sequential([\n",
        "    Rescaling(1.0 / 255, input_shape=(img_height, img_width, 1)),  # Normalize images\n",
        "    Flatten(),  # Convert images to a 1D array\n",
        "    Dense(128, activation='relu'),\n",
        "    Dense(10, activation='softmax')  # Output layer for 10 digit classes\n",
        "])\n",
        "\n",
        "# Compile the model\n",
        "model.compile(optimizer='adam',\n",
        "              loss='categorical_crossentropy',\n",
        "              metrics=['accuracy'])\n",
        "\n",
        "# Print model summary\n",
        "model.summary()\n"
      ],
      "metadata": {
        "id": "KkiVpwGhYXBF",
        "colab": {
          "base_uri": "https://localhost:8080/",
          "height": 312
        },
        "outputId": "18c9234f-2f19-400a-9a69-5f33a1c6f159"
      },
      "execution_count": 21,
      "outputs": [
        {
          "output_type": "stream",
          "name": "stderr",
          "text": [
            "/usr/local/lib/python3.11/dist-packages/keras/src/layers/preprocessing/tf_data_layer.py:19: UserWarning: Do not pass an `input_shape`/`input_dim` argument to a layer. When using Sequential models, prefer using an `Input(shape)` object as the first layer in the model instead.\n",
            "  super().__init__(**kwargs)\n"
          ]
        },
        {
          "output_type": "display_data",
          "data": {
            "text/plain": [
              "\u001b[1mModel: \"sequential\"\u001b[0m\n"
            ],
            "text/html": [
              "<pre style=\"white-space:pre;overflow-x:auto;line-height:normal;font-family:Menlo,'DejaVu Sans Mono',consolas,'Courier New',monospace\"><span style=\"font-weight: bold\">Model: \"sequential\"</span>\n",
              "</pre>\n"
            ]
          },
          "metadata": {}
        },
        {
          "output_type": "display_data",
          "data": {
            "text/plain": [
              "┏━━━━━━━━━━━━━━━━━━━━━━━━━━━━━━━━━━━━━━┳━━━━━━━━━━━━━━━━━━━━━━━━━━━━━┳━━━━━━━━━━━━━━━━━┓\n",
              "┃\u001b[1m \u001b[0m\u001b[1mLayer (type)                        \u001b[0m\u001b[1m \u001b[0m┃\u001b[1m \u001b[0m\u001b[1mOutput Shape               \u001b[0m\u001b[1m \u001b[0m┃\u001b[1m \u001b[0m\u001b[1m        Param #\u001b[0m\u001b[1m \u001b[0m┃\n",
              "┡━━━━━━━━━━━━━━━━━━━━━━━━━━━━━━━━━━━━━━╇━━━━━━━━━━━━━━━━━━━━━━━━━━━━━╇━━━━━━━━━━━━━━━━━┩\n",
              "│ rescaling (\u001b[38;5;33mRescaling\u001b[0m)                │ (\u001b[38;5;45mNone\u001b[0m, \u001b[38;5;34m28\u001b[0m, \u001b[38;5;34m28\u001b[0m, \u001b[38;5;34m1\u001b[0m)           │               \u001b[38;5;34m0\u001b[0m │\n",
              "├──────────────────────────────────────┼─────────────────────────────┼─────────────────┤\n",
              "│ flatten (\u001b[38;5;33mFlatten\u001b[0m)                    │ (\u001b[38;5;45mNone\u001b[0m, \u001b[38;5;34m784\u001b[0m)                 │               \u001b[38;5;34m0\u001b[0m │\n",
              "├──────────────────────────────────────┼─────────────────────────────┼─────────────────┤\n",
              "│ dense (\u001b[38;5;33mDense\u001b[0m)                        │ (\u001b[38;5;45mNone\u001b[0m, \u001b[38;5;34m128\u001b[0m)                 │         \u001b[38;5;34m100,480\u001b[0m │\n",
              "├──────────────────────────────────────┼─────────────────────────────┼─────────────────┤\n",
              "│ dense_1 (\u001b[38;5;33mDense\u001b[0m)                      │ (\u001b[38;5;45mNone\u001b[0m, \u001b[38;5;34m10\u001b[0m)                  │           \u001b[38;5;34m1,290\u001b[0m │\n",
              "└──────────────────────────────────────┴─────────────────────────────┴─────────────────┘\n"
            ],
            "text/html": [
              "<pre style=\"white-space:pre;overflow-x:auto;line-height:normal;font-family:Menlo,'DejaVu Sans Mono',consolas,'Courier New',monospace\">┏━━━━━━━━━━━━━━━━━━━━━━━━━━━━━━━━━━━━━━┳━━━━━━━━━━━━━━━━━━━━━━━━━━━━━┳━━━━━━━━━━━━━━━━━┓\n",
              "┃<span style=\"font-weight: bold\"> Layer (type)                         </span>┃<span style=\"font-weight: bold\"> Output Shape                </span>┃<span style=\"font-weight: bold\">         Param # </span>┃\n",
              "┡━━━━━━━━━━━━━━━━━━━━━━━━━━━━━━━━━━━━━━╇━━━━━━━━━━━━━━━━━━━━━━━━━━━━━╇━━━━━━━━━━━━━━━━━┩\n",
              "│ rescaling (<span style=\"color: #0087ff; text-decoration-color: #0087ff\">Rescaling</span>)                │ (<span style=\"color: #00d7ff; text-decoration-color: #00d7ff\">None</span>, <span style=\"color: #00af00; text-decoration-color: #00af00\">28</span>, <span style=\"color: #00af00; text-decoration-color: #00af00\">28</span>, <span style=\"color: #00af00; text-decoration-color: #00af00\">1</span>)           │               <span style=\"color: #00af00; text-decoration-color: #00af00\">0</span> │\n",
              "├──────────────────────────────────────┼─────────────────────────────┼─────────────────┤\n",
              "│ flatten (<span style=\"color: #0087ff; text-decoration-color: #0087ff\">Flatten</span>)                    │ (<span style=\"color: #00d7ff; text-decoration-color: #00d7ff\">None</span>, <span style=\"color: #00af00; text-decoration-color: #00af00\">784</span>)                 │               <span style=\"color: #00af00; text-decoration-color: #00af00\">0</span> │\n",
              "├──────────────────────────────────────┼─────────────────────────────┼─────────────────┤\n",
              "│ dense (<span style=\"color: #0087ff; text-decoration-color: #0087ff\">Dense</span>)                        │ (<span style=\"color: #00d7ff; text-decoration-color: #00d7ff\">None</span>, <span style=\"color: #00af00; text-decoration-color: #00af00\">128</span>)                 │         <span style=\"color: #00af00; text-decoration-color: #00af00\">100,480</span> │\n",
              "├──────────────────────────────────────┼─────────────────────────────┼─────────────────┤\n",
              "│ dense_1 (<span style=\"color: #0087ff; text-decoration-color: #0087ff\">Dense</span>)                      │ (<span style=\"color: #00d7ff; text-decoration-color: #00d7ff\">None</span>, <span style=\"color: #00af00; text-decoration-color: #00af00\">10</span>)                  │           <span style=\"color: #00af00; text-decoration-color: #00af00\">1,290</span> │\n",
              "└──────────────────────────────────────┴─────────────────────────────┴─────────────────┘\n",
              "</pre>\n"
            ]
          },
          "metadata": {}
        },
        {
          "output_type": "display_data",
          "data": {
            "text/plain": [
              "\u001b[1m Total params: \u001b[0m\u001b[38;5;34m101,770\u001b[0m (397.54 KB)\n"
            ],
            "text/html": [
              "<pre style=\"white-space:pre;overflow-x:auto;line-height:normal;font-family:Menlo,'DejaVu Sans Mono',consolas,'Courier New',monospace\"><span style=\"font-weight: bold\"> Total params: </span><span style=\"color: #00af00; text-decoration-color: #00af00\">101,770</span> (397.54 KB)\n",
              "</pre>\n"
            ]
          },
          "metadata": {}
        },
        {
          "output_type": "display_data",
          "data": {
            "text/plain": [
              "\u001b[1m Trainable params: \u001b[0m\u001b[38;5;34m101,770\u001b[0m (397.54 KB)\n"
            ],
            "text/html": [
              "<pre style=\"white-space:pre;overflow-x:auto;line-height:normal;font-family:Menlo,'DejaVu Sans Mono',consolas,'Courier New',monospace\"><span style=\"font-weight: bold\"> Trainable params: </span><span style=\"color: #00af00; text-decoration-color: #00af00\">101,770</span> (397.54 KB)\n",
              "</pre>\n"
            ]
          },
          "metadata": {}
        },
        {
          "output_type": "display_data",
          "data": {
            "text/plain": [
              "\u001b[1m Non-trainable params: \u001b[0m\u001b[38;5;34m0\u001b[0m (0.00 B)\n"
            ],
            "text/html": [
              "<pre style=\"white-space:pre;overflow-x:auto;line-height:normal;font-family:Menlo,'DejaVu Sans Mono',consolas,'Courier New',monospace\"><span style=\"font-weight: bold\"> Non-trainable params: </span><span style=\"color: #00af00; text-decoration-color: #00af00\">0</span> (0.00 B)\n",
              "</pre>\n"
            ]
          },
          "metadata": {}
        }
      ]
    },
    {
      "cell_type": "code",
      "source": [
        "# Train the model for 5 epochs\n",
        "model.fit(train_ds, epochs=25)\n",
        "\n"
      ],
      "metadata": {
        "id": "W_FEHAxPYcjr",
        "colab": {
          "base_uri": "https://localhost:8080/"
        },
        "outputId": "7f9314e4-855c-4817-f3ea-50e54d9cc0e2"
      },
      "execution_count": 25,
      "outputs": [
        {
          "output_type": "stream",
          "name": "stdout",
          "text": [
            "Epoch 1/25\n",
            "\u001b[1m10/10\u001b[0m \u001b[32m━━━━━━━━━━━━━━━━━━━━\u001b[0m\u001b[37m\u001b[0m \u001b[1m0s\u001b[0m 15ms/step - accuracy: 0.3850 - loss: 1.7602\n",
            "Epoch 2/25\n",
            "\u001b[1m10/10\u001b[0m \u001b[32m━━━━━━━━━━━━━━━━━━━━\u001b[0m\u001b[37m\u001b[0m \u001b[1m0s\u001b[0m 16ms/step - accuracy: 0.4317 - loss: 1.6608\n",
            "Epoch 3/25\n",
            "\u001b[1m10/10\u001b[0m \u001b[32m━━━━━━━━━━━━━━━━━━━━\u001b[0m\u001b[37m\u001b[0m \u001b[1m0s\u001b[0m 15ms/step - accuracy: 0.4693 - loss: 1.6043\n",
            "Epoch 4/25\n",
            "\u001b[1m10/10\u001b[0m \u001b[32m━━━━━━━━━━━━━━━━━━━━\u001b[0m\u001b[37m\u001b[0m \u001b[1m0s\u001b[0m 15ms/step - accuracy: 0.4550 - loss: 1.5953\n",
            "Epoch 5/25\n",
            "\u001b[1m10/10\u001b[0m \u001b[32m━━━━━━━━━━━━━━━━━━━━\u001b[0m\u001b[37m\u001b[0m \u001b[1m0s\u001b[0m 17ms/step - accuracy: 0.4706 - loss: 1.5273\n",
            "Epoch 6/25\n",
            "\u001b[1m10/10\u001b[0m \u001b[32m━━━━━━━━━━━━━━━━━━━━\u001b[0m\u001b[37m\u001b[0m \u001b[1m0s\u001b[0m 15ms/step - accuracy: 0.4911 - loss: 1.4886\n",
            "Epoch 7/25\n",
            "\u001b[1m10/10\u001b[0m \u001b[32m━━━━━━━━━━━━━━━━━━━━\u001b[0m\u001b[37m\u001b[0m \u001b[1m0s\u001b[0m 17ms/step - accuracy: 0.5063 - loss: 1.4330\n",
            "Epoch 8/25\n",
            "\u001b[1m10/10\u001b[0m \u001b[32m━━━━━━━━━━━━━━━━━━━━\u001b[0m\u001b[37m\u001b[0m \u001b[1m0s\u001b[0m 16ms/step - accuracy: 0.5682 - loss: 1.3949\n",
            "Epoch 9/25\n",
            "\u001b[1m10/10\u001b[0m \u001b[32m━━━━━━━━━━━━━━━━━━━━\u001b[0m\u001b[37m\u001b[0m \u001b[1m0s\u001b[0m 15ms/step - accuracy: 0.4663 - loss: 1.4074\n",
            "Epoch 10/25\n",
            "\u001b[1m10/10\u001b[0m \u001b[32m━━━━━━━━━━━━━━━━━━━━\u001b[0m\u001b[37m\u001b[0m \u001b[1m0s\u001b[0m 15ms/step - accuracy: 0.5913 - loss: 1.4062\n",
            "Epoch 11/25\n",
            "\u001b[1m10/10\u001b[0m \u001b[32m━━━━━━━━━━━━━━━━━━━━\u001b[0m\u001b[37m\u001b[0m \u001b[1m0s\u001b[0m 15ms/step - accuracy: 0.5996 - loss: 1.3399\n",
            "Epoch 12/25\n",
            "\u001b[1m10/10\u001b[0m \u001b[32m━━━━━━━━━━━━━━━━━━━━\u001b[0m\u001b[37m\u001b[0m \u001b[1m0s\u001b[0m 15ms/step - accuracy: 0.5663 - loss: 1.3117\n",
            "Epoch 13/25\n",
            "\u001b[1m10/10\u001b[0m \u001b[32m━━━━━━━━━━━━━━━━━━━━\u001b[0m\u001b[37m\u001b[0m \u001b[1m0s\u001b[0m 15ms/step - accuracy: 0.5250 - loss: 1.3156\n",
            "Epoch 14/25\n",
            "\u001b[1m10/10\u001b[0m \u001b[32m━━━━━━━━━━━━━━━━━━━━\u001b[0m\u001b[37m\u001b[0m \u001b[1m0s\u001b[0m 19ms/step - accuracy: 0.5193 - loss: 1.3059\n",
            "Epoch 15/25\n",
            "\u001b[1m10/10\u001b[0m \u001b[32m━━━━━━━━━━━━━━━━━━━━\u001b[0m\u001b[37m\u001b[0m \u001b[1m0s\u001b[0m 15ms/step - accuracy: 0.6393 - loss: 1.2056\n",
            "Epoch 16/25\n",
            "\u001b[1m10/10\u001b[0m \u001b[32m━━━━━━━━━━━━━━━━━━━━\u001b[0m\u001b[37m\u001b[0m \u001b[1m0s\u001b[0m 15ms/step - accuracy: 0.6966 - loss: 1.1508\n",
            "Epoch 17/25\n",
            "\u001b[1m10/10\u001b[0m \u001b[32m━━━━━━━━━━━━━━━━━━━━\u001b[0m\u001b[37m\u001b[0m \u001b[1m0s\u001b[0m 15ms/step - accuracy: 0.6792 - loss: 1.1367\n",
            "Epoch 18/25\n",
            "\u001b[1m10/10\u001b[0m \u001b[32m━━━━━━━━━━━━━━━━━━━━\u001b[0m\u001b[37m\u001b[0m \u001b[1m0s\u001b[0m 15ms/step - accuracy: 0.5966 - loss: 1.1865\n",
            "Epoch 19/25\n",
            "\u001b[1m10/10\u001b[0m \u001b[32m━━━━━━━━━━━━━━━━━━━━\u001b[0m\u001b[37m\u001b[0m \u001b[1m0s\u001b[0m 23ms/step - accuracy: 0.6448 - loss: 1.2241\n",
            "Epoch 20/25\n",
            "\u001b[1m10/10\u001b[0m \u001b[32m━━━━━━━━━━━━━━━━━━━━\u001b[0m\u001b[37m\u001b[0m \u001b[1m0s\u001b[0m 26ms/step - accuracy: 0.6304 - loss: 1.1786\n",
            "Epoch 21/25\n",
            "\u001b[1m10/10\u001b[0m \u001b[32m━━━━━━━━━━━━━━━━━━━━\u001b[0m\u001b[37m\u001b[0m \u001b[1m0s\u001b[0m 30ms/step - accuracy: 0.5728 - loss: 1.2114\n",
            "Epoch 22/25\n",
            "\u001b[1m10/10\u001b[0m \u001b[32m━━━━━━━━━━━━━━━━━━━━\u001b[0m\u001b[37m\u001b[0m \u001b[1m1s\u001b[0m 26ms/step - accuracy: 0.6214 - loss: 1.1686\n",
            "Epoch 23/25\n",
            "\u001b[1m10/10\u001b[0m \u001b[32m━━━━━━━━━━━━━━━━━━━━\u001b[0m\u001b[37m\u001b[0m \u001b[1m1s\u001b[0m 24ms/step - accuracy: 0.6583 - loss: 1.0639\n",
            "Epoch 24/25\n",
            "\u001b[1m10/10\u001b[0m \u001b[32m━━━━━━━━━━━━━━━━━━━━\u001b[0m\u001b[37m\u001b[0m \u001b[1m0s\u001b[0m 25ms/step - accuracy: 0.6624 - loss: 1.0173\n",
            "Epoch 25/25\n",
            "\u001b[1m10/10\u001b[0m \u001b[32m━━━━━━━━━━━━━━━━━━━━\u001b[0m\u001b[37m\u001b[0m \u001b[1m0s\u001b[0m 15ms/step - accuracy: 0.7392 - loss: 0.9275\n"
          ]
        },
        {
          "output_type": "execute_result",
          "data": {
            "text/plain": [
              "<keras.src.callbacks.history.History at 0x78a855235410>"
            ]
          },
          "metadata": {},
          "execution_count": 25
        }
      ]
    },
    {
      "cell_type": "code",
      "source": [
        "# Evaluate the model on the test dataset\n",
        "loss, accuracy = model.evaluate(test_ds, verbose=1)\n",
        "print('Test Loss:', loss)\n",
        "print('Test Accuracy:', accuracy)\n"
      ],
      "metadata": {
        "id": "6AIxy30-Ymj0",
        "colab": {
          "base_uri": "https://localhost:8080/"
        },
        "outputId": "67923c89-3822-40cd-d9f0-111b00d8bc19"
      },
      "execution_count": 26,
      "outputs": [
        {
          "output_type": "stream",
          "name": "stdout",
          "text": [
            "\u001b[1m5/5\u001b[0m \u001b[32m━━━━━━━━━━━━━━━━━━━━\u001b[0m\u001b[37m\u001b[0m \u001b[1m0s\u001b[0m 23ms/step - accuracy: 0.4564 - loss: 1.7063\n",
            "Test Loss: 1.7515369653701782\n",
            "Test Accuracy: 0.4135338366031647\n"
          ]
        }
      ]
    },
    {
      "cell_type": "code",
      "source": [
        "# Get model predictions\n",
        "predictions = model.predict(test_ds)\n",
        "\n",
        "# Convert predictions to class labels\n",
        "predicted_labels = tf.argmax(predictions, axis=1).numpy()\n",
        "print(\"Predicted labels:\", predicted_labels)\n"
      ],
      "metadata": {
        "colab": {
          "base_uri": "https://localhost:8080/"
        },
        "id": "LQ2yy3YJ0RfQ",
        "outputId": "b36652fe-7e00-403d-ed18-d62b9a74b224"
      },
      "execution_count": 27,
      "outputs": [
        {
          "output_type": "stream",
          "name": "stdout",
          "text": [
            "\u001b[1m5/5\u001b[0m \u001b[32m━━━━━━━━━━━━━━━━━━━━\u001b[0m\u001b[37m\u001b[0m \u001b[1m0s\u001b[0m 12ms/step\n",
            "Predicted labels: [4 6 2 6 4 1 6 4 6 4 1 5 8 4 6 4 6 9 1 9 4 6 0 9 1 9 1 1 6 6 1 4 9 0 1 1 9\n",
            " 2 9 8 6 9 9 1 1 9 4 2 6 8 1 6 9 6 1 4 8 9 2 1 9 6 4 8 9 6 6 1 4 1 6 2 6 7\n",
            " 0 1 6 9 1 4 9 8 9 4 4 6 8 9 6 9 0 1 0 9 0 6 1 4 4 9 9 6 4 1 0 2 0 5 6 6 4\n",
            " 4 9 1 5 1 0 4 6 2 4 9 2 2 6 4 9 2 1 6 1 2 1]\n"
          ]
        }
      ]
    }
  ]
}